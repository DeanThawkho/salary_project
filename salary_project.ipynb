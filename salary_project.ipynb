{
 "cells": [
  {
   "cell_type": "markdown",
   "id": "864b06cd-c4e8-48fb-a971-b80e945da3b9",
   "metadata": {},
   "source": [
    "### Import Libraries"
   ]
  },
  {
   "cell_type": "code",
   "execution_count": 1,
   "id": "70d42a50-962d-4b86-ae49-db99c0d893b8",
   "metadata": {},
   "outputs": [
    {
     "ename": "AttributeError",
     "evalue": "module 'numpy' has no attribute '__version__'",
     "output_type": "error",
     "traceback": [
      "\u001b[1;31m---------------------------------------------------------------------------\u001b[0m",
      "\u001b[1;31mAttributeError\u001b[0m                            Traceback (most recent call last)",
      "Cell \u001b[1;32mIn[1], line 1\u001b[0m\n\u001b[1;32m----> 1\u001b[0m \u001b[38;5;28;01mimport\u001b[39;00m \u001b[38;5;21;01mpandas\u001b[39;00m \u001b[38;5;28;01mas\u001b[39;00m \u001b[38;5;21;01mpd\u001b[39;00m\n\u001b[0;32m      2\u001b[0m \u001b[38;5;28;01mimport\u001b[39;00m \u001b[38;5;21;01mmatplotlib\u001b[39;00m\u001b[38;5;21;01m.\u001b[39;00m\u001b[38;5;21;01mpyplot\u001b[39;00m \u001b[38;5;28;01mas\u001b[39;00m \u001b[38;5;21;01mplt\u001b[39;00m\n\u001b[0;32m      3\u001b[0m \u001b[38;5;28;01mimport\u001b[39;00m \u001b[38;5;21;01mseaborn\u001b[39;00m \u001b[38;5;28;01mas\u001b[39;00m \u001b[38;5;21;01msns\u001b[39;00m\n",
      "File \u001b[1;32m~\\anaconda3\\Lib\\site-packages\\pandas\\__init__.py:38\u001b[0m\n\u001b[0;32m     34\u001b[0m \u001b[38;5;28;01mdel\u001b[39;00m _hard_dependencies, _dependency, _missing_dependencies\n\u001b[0;32m     36\u001b[0m \u001b[38;5;28;01mtry\u001b[39;00m:\n\u001b[0;32m     37\u001b[0m     \u001b[38;5;66;03m# numpy compat\u001b[39;00m\n\u001b[1;32m---> 38\u001b[0m     \u001b[38;5;28;01mfrom\u001b[39;00m \u001b[38;5;21;01mpandas\u001b[39;00m\u001b[38;5;21;01m.\u001b[39;00m\u001b[38;5;21;01mcompat\u001b[39;00m \u001b[38;5;28;01mimport\u001b[39;00m (\n\u001b[0;32m     39\u001b[0m         is_numpy_dev \u001b[38;5;28;01mas\u001b[39;00m _is_numpy_dev,  \u001b[38;5;66;03m# pyright: ignore[reportUnusedImport] # noqa: F401\u001b[39;00m\n\u001b[0;32m     40\u001b[0m     )\n\u001b[0;32m     41\u001b[0m \u001b[38;5;28;01mexcept\u001b[39;00m \u001b[38;5;167;01mImportError\u001b[39;00m \u001b[38;5;28;01mas\u001b[39;00m _err:  \u001b[38;5;66;03m# pragma: no cover\u001b[39;00m\n\u001b[0;32m     42\u001b[0m     _module \u001b[38;5;241m=\u001b[39m _err\u001b[38;5;241m.\u001b[39mname\n",
      "File \u001b[1;32m~\\anaconda3\\Lib\\site-packages\\pandas\\compat\\__init__.py:26\u001b[0m\n\u001b[0;32m     17\u001b[0m \u001b[38;5;28;01mfrom\u001b[39;00m \u001b[38;5;21;01mpandas\u001b[39;00m\u001b[38;5;21;01m.\u001b[39;00m\u001b[38;5;21;01mcompat\u001b[39;00m\u001b[38;5;21;01m.\u001b[39;00m\u001b[38;5;21;01m_constants\u001b[39;00m \u001b[38;5;28;01mimport\u001b[39;00m (\n\u001b[0;32m     18\u001b[0m     IS64,\n\u001b[0;32m     19\u001b[0m     ISMUSL,\n\u001b[1;32m   (...)\u001b[0m\n\u001b[0;32m     23\u001b[0m     PYPY,\n\u001b[0;32m     24\u001b[0m )\n\u001b[0;32m     25\u001b[0m \u001b[38;5;28;01mimport\u001b[39;00m \u001b[38;5;21;01mpandas\u001b[39;00m\u001b[38;5;21;01m.\u001b[39;00m\u001b[38;5;21;01mcompat\u001b[39;00m\u001b[38;5;21;01m.\u001b[39;00m\u001b[38;5;21;01mcompressors\u001b[39;00m\n\u001b[1;32m---> 26\u001b[0m \u001b[38;5;28;01mfrom\u001b[39;00m \u001b[38;5;21;01mpandas\u001b[39;00m\u001b[38;5;21;01m.\u001b[39;00m\u001b[38;5;21;01mcompat\u001b[39;00m\u001b[38;5;21;01m.\u001b[39;00m\u001b[38;5;21;01mnumpy\u001b[39;00m \u001b[38;5;28;01mimport\u001b[39;00m is_numpy_dev\n\u001b[0;32m     27\u001b[0m \u001b[38;5;28;01mfrom\u001b[39;00m \u001b[38;5;21;01mpandas\u001b[39;00m\u001b[38;5;21;01m.\u001b[39;00m\u001b[38;5;21;01mcompat\u001b[39;00m\u001b[38;5;21;01m.\u001b[39;00m\u001b[38;5;21;01mpyarrow\u001b[39;00m \u001b[38;5;28;01mimport\u001b[39;00m (\n\u001b[0;32m     28\u001b[0m     HAS_PYARROW,\n\u001b[0;32m     29\u001b[0m     pa_version_under10p1,\n\u001b[1;32m   (...)\u001b[0m\n\u001b[0;32m     39\u001b[0m     pa_version_under21p0,\n\u001b[0;32m     40\u001b[0m )\n\u001b[0;32m     42\u001b[0m \u001b[38;5;28;01mif\u001b[39;00m TYPE_CHECKING:\n",
      "File \u001b[1;32m~\\anaconda3\\Lib\\site-packages\\pandas\\compat\\numpy\\__init__.py:9\u001b[0m\n\u001b[0;32m      6\u001b[0m \u001b[38;5;28;01mfrom\u001b[39;00m \u001b[38;5;21;01mpandas\u001b[39;00m\u001b[38;5;21;01m.\u001b[39;00m\u001b[38;5;21;01mutil\u001b[39;00m\u001b[38;5;21;01m.\u001b[39;00m\u001b[38;5;21;01mversion\u001b[39;00m \u001b[38;5;28;01mimport\u001b[39;00m Version\n\u001b[0;32m      8\u001b[0m \u001b[38;5;66;03m# numpy versioning\u001b[39;00m\n\u001b[1;32m----> 9\u001b[0m _np_version \u001b[38;5;241m=\u001b[39m np\u001b[38;5;241m.\u001b[39m__version__\n\u001b[0;32m     10\u001b[0m _nlv \u001b[38;5;241m=\u001b[39m Version(_np_version)\n\u001b[0;32m     11\u001b[0m np_version_lt1p23 \u001b[38;5;241m=\u001b[39m _nlv \u001b[38;5;241m<\u001b[39m Version(\u001b[38;5;124m\"\u001b[39m\u001b[38;5;124m1.23\u001b[39m\u001b[38;5;124m\"\u001b[39m)\n",
      "\u001b[1;31mAttributeError\u001b[0m: module 'numpy' has no attribute '__version__'"
     ]
    }
   ],
   "source": [
    "import pandas as pd\n",
    "import matplotlib.pyplot as plt\n",
    "import seaborn as sns\n",
    "\n",
    "plt.style.use('ggplot')"
   ]
  },
  {
   "cell_type": "markdown",
   "id": "c4f0fdca-6941-4299-a00a-3c4f8c506ad8",
   "metadata": {},
   "source": [
    "### Loading and Understanding the Dataset"
   ]
  },
  {
   "cell_type": "code",
   "execution_count": null,
   "id": "ad4f49ba-827f-47f3-aada-d8f78c52c918",
   "metadata": {},
   "outputs": [],
   "source": [
    "# Load Dataset\n",
    "\n",
    "df = pd.read_csv('Salary_Data.csv')"
   ]
  },
  {
   "cell_type": "code",
   "execution_count": null,
   "id": "e12b451a-47ef-4dc1-a788-cfd67e47907d",
   "metadata": {},
   "outputs": [],
   "source": [
    "# View few first rows of the dataset\n",
    "\n",
    "df.head()"
   ]
  },
  {
   "cell_type": "code",
   "execution_count": null,
   "id": "3c9ffeb1-b60d-4ec0-8c5b-7053936cace9",
   "metadata": {},
   "outputs": [],
   "source": [
    "# Understand dataset's dimensions\n",
    "\n",
    "df.shape"
   ]
  },
  {
   "cell_type": "code",
   "execution_count": null,
   "id": "1410ec01-4940-47f5-bd29-04000c0a8d4b",
   "metadata": {},
   "outputs": [],
   "source": [
    "# Data types\n",
    "\n",
    "df.info()"
   ]
  },
  {
   "cell_type": "code",
   "execution_count": null,
   "id": "9a08c9cd-c6ef-457e-b6cd-5d5db915364d",
   "metadata": {},
   "outputs": [],
   "source": [
    "# Summary statistics\n",
    "\n",
    "df.describe()"
   ]
  },
  {
   "cell_type": "markdown",
   "id": "8cd52d4e-4959-4865-ab82-780da01257b5",
   "metadata": {},
   "source": [
    "### Data Cleaning and Preprocessing"
   ]
  },
  {
   "cell_type": "code",
   "execution_count": null,
   "id": "1af2ccad-5d76-49b5-8d18-deccb5bf0ac0",
   "metadata": {},
   "outputs": [],
   "source": [
    "df.isnull().sum()"
   ]
  },
  {
   "cell_type": "markdown",
   "id": "91466259-9503-4a33-aeb6-ab3f7a455b17",
   "metadata": {},
   "source": [
    "##### Since we dont have too many missing values, we will remove the missing data from the dataset."
   ]
  },
  {
   "cell_type": "code",
   "execution_count": null,
   "id": "85ec195c-5ed9-4723-a660-22f8f50178f1",
   "metadata": {},
   "outputs": [],
   "source": [
    "df_clean = df.dropna().copy()\n",
    "\n",
    "df_clean.isnull().sum()"
   ]
  },
  {
   "cell_type": "markdown",
   "id": "f35471e3-9f9a-442e-ab41-91503b605a16",
   "metadata": {},
   "source": [
    "##### We will also convert 'Years of Experience' and 'Age' to int, to make outputs cleaner."
   ]
  },
  {
   "cell_type": "code",
   "execution_count": null,
   "id": "412f70a2-3fdf-414e-bf56-f822561bc460",
   "metadata": {},
   "outputs": [],
   "source": [
    "df_clean['Years of Experience'] = df_clean['Years of Experience'].astype(int)\n",
    "df_clean['Age'] = df_clean['Age'].astype(int)\n",
    "\n",
    "df_clean.info()"
   ]
  },
  {
   "cell_type": "markdown",
   "id": "8c1ea1d7-3a2b-4803-a19e-54f8400dfcc1",
   "metadata": {},
   "source": [
    "##### rename columns"
   ]
  },
  {
   "cell_type": "code",
   "execution_count": null,
   "id": "9e7d7acb-d0d9-40c9-b6af-7a6eb9ebb421",
   "metadata": {
    "scrolled": true
   },
   "outputs": [],
   "source": [
    "df_clean = df_clean.rename(columns = {'Education Level': 'Education_Level', 'Job Title': 'Job_Title', 'Years of Experience': 'Years_of_Experience'})\n",
    "df_clean.head()"
   ]
  },
  {
   "cell_type": "code",
   "execution_count": null,
   "id": "0bdc10b2-0271-43b8-9f89-657f38b7866a",
   "metadata": {},
   "outputs": [],
   "source": [
    "df_clean['Education_Level'].unique()"
   ]
  },
  {
   "cell_type": "code",
   "execution_count": null,
   "id": "c8853d3c-24d1-42ee-8855-f5f6c29cd268",
   "metadata": {},
   "outputs": [],
   "source": [
    "df_clean['Education_Level'] = df_clean['Education_Level'].str.strip().str.lower()\n",
    "df_clean['Education_Level'].unique()"
   ]
  },
  {
   "cell_type": "code",
   "execution_count": null,
   "id": "7a7f704c-ee67-4364-bc12-aced4a5c480b",
   "metadata": {},
   "outputs": [],
   "source": [
    "edu_map = {\n",
    "    \"high school\": \"High School\",\n",
    "    \"bachelor's degree\": \"Bachelor's Degree\",\n",
    "    \"bachelor's\": \"Bachelor's Degree\",\n",
    "    \"master's degree\": \"Master's Degree\",\n",
    "    \"master's\": \"Master's Degree\",\n",
    "    \"phd\": \"PhD\"\n",
    "}\n",
    "\n",
    "df_clean['Education_Level'] = df_clean['Education_Level'].map(edu_map)\n",
    "df_clean['Education_Level'].unique()"
   ]
  },
  {
   "cell_type": "markdown",
   "id": "c20afe1c-43d4-4d66-9925-93cac05f0fb6",
   "metadata": {},
   "source": [
    "# Exploratory Data Analysis"
   ]
  },
  {
   "cell_type": "code",
   "execution_count": null,
   "id": "7ce5bb51-101c-4330-b312-dec4eec79dc5",
   "metadata": {},
   "outputs": [],
   "source": [
    "plt.figure(figsize=(8, 6), dpi=80)\n",
    "\n",
    "sns.histplot(data = df_clean, x = 'Salary')\n",
    "plt.title('Salary Distribution')\n",
    "plt.show()"
   ]
  },
  {
   "cell_type": "code",
   "execution_count": null,
   "id": "6a2870da-4795-47b8-bbe5-87045fc471fc",
   "metadata": {},
   "outputs": [],
   "source": [
    "plt.figure(figsize=(8, 6))\n",
    "\n",
    "sns.histplot(data = df_clean, x = 'Years_of_Experience')\n",
    "plt.title('Distribution of Years of Experience')\n",
    "plt.show()"
   ]
  },
  {
   "cell_type": "markdown",
   "id": "5be5ce6c-d0b0-43a1-8a64-da8fc5468e68",
   "metadata": {},
   "source": [
    "As expected we got left skewed histogram, a lot of employees with mid-range experience (5-15 years) and fewer with extremely high experience (20+ years)"
   ]
  },
  {
   "cell_type": "code",
   "execution_count": null,
   "id": "b64b6df3-7fe7-4a14-af00-189df6e6e9c9",
   "metadata": {},
   "outputs": [],
   "source": [
    "plt.figure(figsize=(8, 6), dpi=80)\n",
    "\n",
    "plt.scatter(df_clean['Salary'], df_clean['Years_of_Experience'])\n",
    "plt.title('Experience vs Salary')\n",
    "plt.show()"
   ]
  },
  {
   "cell_type": "markdown",
   "id": "3e085125-de2d-4075-9e60-9544169afc55",
   "metadata": {},
   "source": [
    "We can observe a clear positive trend, generally, as years of experience increase, salary tends to increase."
   ]
  },
  {
   "cell_type": "code",
   "execution_count": null,
   "id": "3cba6f1f-5b96-4ed2-bdde-acb46fd9f131",
   "metadata": {},
   "outputs": [],
   "source": [
    "plt.figure(figsize = (4, 4))\n",
    "\n",
    "sns.heatmap(df_clean[['Age', 'Years_of_Experience', 'Salary']].corr(), annot = True, cmap = 'coolwarm')\n",
    "plt.show()"
   ]
  },
  {
   "cell_type": "markdown",
   "id": "1795bfad-f4a2-46b4-944b-52010708d55c",
   "metadata": {},
   "source": [
    "* We can notice a strong positive relationship between Years of Experience and Salary as we saw with scatter plot too.\n",
    "* Age and Years of Experience highly correlated aswell, since more experience employees tend to be older.\n",
    "* Age and Salary a bit lower, but still positive. Age influences salary partly because it proxies experiencem but age alone isn't as strong predictor as actual experience.\n",
    "* These correlations confirm that Years of Experience is the single strongest predictor of salary."
   ]
  },
  {
   "cell_type": "markdown",
   "id": "0f729ce5-4e69-4cf2-9e97-6df47e1773ff",
   "metadata": {},
   "source": [
    "# Building Linear Regression Model"
   ]
  },
  {
   "cell_type": "code",
   "execution_count": null,
   "id": "1082952e-d85d-4520-952e-093b01101c7e",
   "metadata": {},
   "outputs": [],
   "source": [
    "from sklearn.linear_model import LinearRegression\n",
    "from sklearn.model_selection import train_test_split"
   ]
  }
 ],
 "metadata": {
  "kernelspec": {
   "display_name": "Python 3 (ipykernel)",
   "language": "python",
   "name": "python3"
  },
  "language_info": {
   "codemirror_mode": {
    "name": "ipython",
    "version": 3
   },
   "file_extension": ".py",
   "mimetype": "text/x-python",
   "name": "python",
   "nbconvert_exporter": "python",
   "pygments_lexer": "ipython3",
   "version": "3.12.7"
  }
 },
 "nbformat": 4,
 "nbformat_minor": 5
}
